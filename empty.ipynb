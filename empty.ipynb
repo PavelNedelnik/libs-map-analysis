{
 "cells": [
  {
   "cell_type": "code",
   "execution_count": null,
   "metadata": {},
   "outputs": [],
   "source": []
  }
 ],
 "metadata": {
  "kernelspec": {
   "display_name": "Python 3.7.9 64-bit",
   "language": "python",
   "name": "python3"
  },
  "language_info": {
   "name": "python",
   "version": "3.7.9"
  },
  "orig_nbformat": 4,
  "vscode": {
   "interpreter": {
    "hash": "da247271cd8b5260847dbb7bab70c6456a1589a0965d27246b5851ff0720b068"
   }
  }
 },
 "nbformat": 4,
 "nbformat_minor": 2
}
