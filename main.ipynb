{
 "cells": [
  {
   "cell_type": "code",
   "execution_count": 1,
   "metadata": {},
   "outputs": [],
   "source": [
    "\"\"\"\n",
    "from google.colab import drive\n",
    "drive.mount('/content/drive', force_remount=True)\n",
    "%cd drive/Shareddrives/LIBS/LIBS_library\n",
    "\"\"\"\n",
    "\n",
    "import numpy as np"
   ]
  },
  {
   "cell_type": "markdown",
   "metadata": {},
   "source": [
    "# data"
   ]
  },
  {
   "cell_type": "code",
   "execution_count": 2,
   "metadata": {},
   "outputs": [],
   "source": [
    "from src.visualization import IndexType\n",
    "\n",
    "INDEX = IndexType.HORIZONTAL_SNAKE\n",
    "DIM = (266, 500)"
   ]
  },
  {
   "cell_type": "code",
   "execution_count": 3,
   "metadata": {},
   "outputs": [
    {
     "data": {
      "text/plain": [
       "\"from src.preprocessing import match_wavelengths\\n\\ns1_wavelengths = np.load(open('data/s1_wavelengths.npy', 'rb'))\\ns2_wavelengths = np.load(open('data/s2_wavelengths.npy', 'rb'))\\ns1_spectra = np.load(open('data/s1.npy', 'rb'))\\ns2_spectra = np.load(open('data/s2.npy', 'rb'))\\n\\ny_true, y_pred = s1_spectra, s1_spectra\\ninput = s2_spectra\\ncalibration = s1_wavelengths\\ndel s1_spectra, s2_spectra, s1_wavelengths, s2_wavelengths\""
      ]
     },
     "execution_count": 3,
     "metadata": {},
     "output_type": "execute_result"
    }
   ],
   "source": [
    "\"\"\"from src.preprocessing import match_wavelengths\n",
    "\n",
    "s1_wavelengths = np.load(open('data/s1_wavelengths.npy', 'rb'))\n",
    "s2_wavelengths = np.load(open('data/s2_wavelengths.npy', 'rb'))\n",
    "s1_spectra = np.load(open('data/s1.npy', 'rb'))\n",
    "s2_spectra = np.load(open('data/s2.npy', 'rb'))\n",
    "\n",
    "y_true, y_pred = s1_spectra, s1_spectra\n",
    "input = s2_spectra\n",
    "calibration = s1_wavelengths\n",
    "del s1_spectra, s2_spectra, s1_wavelengths, s2_wavelengths\"\"\""
   ]
  },
  {
   "cell_type": "markdown",
   "metadata": {},
   "source": [
    "# layout"
   ]
  },
  {
   "cell_type": "code",
   "execution_count": 4,
   "metadata": {},
   "outputs": [
    {
     "ename": "TypeError",
     "evalue": "'dict_keys' object is not subscriptable",
     "output_type": "error",
     "traceback": [
      "\u001b[1;31m---------------------------------------------------------------------------\u001b[0m",
      "\u001b[1;31mTypeError\u001b[0m                                 Traceback (most recent call last)",
      "Cell \u001b[1;32mIn [4], line 50\u001b[0m\n\u001b[0;32m     19\u001b[0m app \u001b[39m=\u001b[39m JupyterDash(\u001b[39m__name__\u001b[39m, external_stylesheets\u001b[39m=\u001b[39m[dbc\u001b[39m.\u001b[39mthemes\u001b[39m.\u001b[39mSLATE, dbc_css])\n\u001b[0;32m     20\u001b[0m app\u001b[39m.\u001b[39mtitle \u001b[39m=\u001b[39m \u001b[39m'\u001b[39m\u001b[39mLIBS Error Analysis\u001b[39m\u001b[39m'\u001b[39m\n\u001b[0;32m     21\u001b[0m app\u001b[39m.\u001b[39mlayout \u001b[39m=\u001b[39m \\\n\u001b[0;32m     22\u001b[0m place_in_container([\n\u001b[0;32m     23\u001b[0m \n\u001b[0;32m     24\u001b[0m     \u001b[39m# intensity map & error map \u001b[39;00m\n\u001b[0;32m     25\u001b[0m     \u001b[39m# TODO maybe add table\u001b[39;00m\n\u001b[0;32m     26\u001b[0m     dbc\u001b[39m.\u001b[39mRow([\n\u001b[0;32m     27\u001b[0m         dbc\u001b[39m.\u001b[39mCol([\n\u001b[0;32m     28\u001b[0m             make_plot(\n\u001b[0;32m     29\u001b[0m                 dbc\u001b[39m.\u001b[39mRow([\n\u001b[0;32m     30\u001b[0m                     dbc\u001b[39m.\u001b[39mCol([\n\u001b[0;32m     31\u001b[0m                         make_tooltip_title(\u001b[39m'\u001b[39m\u001b[39mOriginal map\u001b[39m\u001b[39m'\u001b[39m, \u001b[39m'\u001b[39m\u001b[39my_map_title\u001b[39m\u001b[39m'\u001b[39m, \u001b[39m'\u001b[39m\u001b[39mTBD\u001b[39m\u001b[39m'\u001b[39m),\n\u001b[0;32m     32\u001b[0m                     ]),\n\u001b[0;32m     33\u001b[0m                     dbc\u001b[39m.\u001b[39mCol([\n\u001b[0;32m     34\u001b[0m                         make_toggle(\u001b[39m'\u001b[39m\u001b[39m'\u001b[39m, \u001b[39m'\u001b[39m\u001b[39mSuppress outliers\u001b[39m\u001b[39m'\u001b[39m, \u001b[39m'\u001b[39m\u001b[39my_map_outlier_toggle\u001b[39m\u001b[39m'\u001b[39m),\n\u001b[0;32m     35\u001b[0m                     ]),\n\u001b[0;32m     36\u001b[0m                     dbc\u001b[39m.\u001b[39mCol([\n\u001b[0;32m     37\u001b[0m                         make_toggle(\u001b[39m'\u001b[39m\u001b[39my_true\u001b[39m\u001b[39m'\u001b[39m, \u001b[39m'\u001b[39m\u001b[39my_pred\u001b[39m\u001b[39m'\u001b[39m, \u001b[39m'\u001b[39m\u001b[39my_map_toggle\u001b[39m\u001b[39m'\u001b[39m),\n\u001b[0;32m     38\u001b[0m                     ]),\n\u001b[0;32m     39\u001b[0m                 ]),\n\u001b[0;32m     40\u001b[0m                 \u001b[39m'\u001b[39m\u001b[39my_map\u001b[39m\u001b[39m'\u001b[39m,\n\u001b[0;32m     41\u001b[0m             ),\n\u001b[0;32m     42\u001b[0m         ], width\u001b[39m=\u001b[39m\u001b[39m6\u001b[39m),\n\u001b[0;32m     43\u001b[0m         dbc\u001b[39m.\u001b[39mCol([\n\u001b[0;32m     44\u001b[0m             make_plot(\n\u001b[0;32m     45\u001b[0m                 dbc\u001b[39m.\u001b[39mRow([\n\u001b[0;32m     46\u001b[0m                     dbc\u001b[39m.\u001b[39mCol([\n\u001b[0;32m     47\u001b[0m                         make_tooltip_title(\u001b[39m'\u001b[39m\u001b[39mError map\u001b[39m\u001b[39m'\u001b[39m, \u001b[39m'\u001b[39m\u001b[39merror_map_title\u001b[39m\u001b[39m'\u001b[39m, \u001b[39m'\u001b[39m\u001b[39mTBD\u001b[39m\u001b[39m'\u001b[39m),\n\u001b[0;32m     48\u001b[0m                     ]),\n\u001b[0;32m     49\u001b[0m                     dbc\u001b[39m.\u001b[39mCol([\n\u001b[1;32m---> 50\u001b[0m                         make_dropdown(\u001b[39m'\u001b[39;49m\u001b[39merror_metric_dropdown\u001b[39;49m\u001b[39m'\u001b[39;49m, METRICS\u001b[39m.\u001b[39;49mkeys()),\n\u001b[0;32m     51\u001b[0m                     ]),\n\u001b[0;32m     52\u001b[0m                     dbc\u001b[39m.\u001b[39mCol([\n\u001b[0;32m     53\u001b[0m                         make_toggle(\u001b[39m'\u001b[39m\u001b[39m'\u001b[39m, \u001b[39m'\u001b[39m\u001b[39mSuppress outliers\u001b[39m\u001b[39m'\u001b[39m, \u001b[39m'\u001b[39m\u001b[39merror_map_outlier_toggle\u001b[39m\u001b[39m'\u001b[39m),\n\u001b[0;32m     54\u001b[0m                     ]),\n\u001b[0;32m     55\u001b[0m                 ]),\n\u001b[0;32m     56\u001b[0m                 \u001b[39m'\u001b[39m\u001b[39merror_map\u001b[39m\u001b[39m'\u001b[39m,\n\u001b[0;32m     57\u001b[0m             ),\n\u001b[0;32m     58\u001b[0m         ], width\u001b[39m=\u001b[39m\u001b[39m6\u001b[39m),\n\u001b[0;32m     59\u001b[0m     ], align\u001b[39m=\u001b[39m\u001b[39m'\u001b[39m\u001b[39mcenter\u001b[39m\u001b[39m'\u001b[39m),\n\u001b[0;32m     60\u001b[0m     html\u001b[39m.\u001b[39mBr(),\n\u001b[0;32m     61\u001b[0m \n\u001b[0;32m     62\u001b[0m     \u001b[39m# input and output\u001b[39;00m\n\u001b[0;32m     63\u001b[0m     dbc\u001b[39m.\u001b[39mRow([\n\u001b[0;32m     64\u001b[0m         dbc\u001b[39m.\u001b[39mCol([\n\u001b[0;32m     65\u001b[0m             make_plot(\n\u001b[0;32m     66\u001b[0m                 make_tooltip_title(\u001b[39m'\u001b[39m\u001b[39mInput spectrum\u001b[39m\u001b[39m'\u001b[39m, \u001b[39m'\u001b[39m\u001b[39mX_plot_title\u001b[39m\u001b[39m'\u001b[39m, \u001b[39m'\u001b[39m\u001b[39mTBD\u001b[39m\u001b[39m'\u001b[39m),\n\u001b[0;32m     67\u001b[0m                 \u001b[39m'\u001b[39m\u001b[39mX_plot\u001b[39m\u001b[39m'\u001b[39m,\n\u001b[0;32m     68\u001b[0m             )\n\u001b[0;32m     69\u001b[0m         ], width\u001b[39m=\u001b[39m\u001b[39m7\u001b[39m),\n\u001b[0;32m     70\u001b[0m         dbc\u001b[39m.\u001b[39mCol([\n\u001b[0;32m     71\u001b[0m             make_plot(\n\u001b[0;32m     72\u001b[0m                 make_tooltip_title(\u001b[39m'\u001b[39m\u001b[39mModel output and expected output\u001b[39m\u001b[39m'\u001b[39m, \u001b[39m'\u001b[39m\u001b[39my_plot_title\u001b[39m\u001b[39m'\u001b[39m, \u001b[39m'\u001b[39m\u001b[39mTBD\u001b[39m\u001b[39m'\u001b[39m),\n\u001b[0;32m     73\u001b[0m                 \u001b[39m'\u001b[39m\u001b[39my_plot\u001b[39m\u001b[39m'\u001b[39m,\n\u001b[0;32m     74\u001b[0m             )\n\u001b[0;32m     75\u001b[0m         ], width\u001b[39m=\u001b[39m\u001b[39m5\u001b[39m),\n\u001b[0;32m     76\u001b[0m     ], align\u001b[39m=\u001b[39m\u001b[39m'\u001b[39m\u001b[39mcenter\u001b[39m\u001b[39m'\u001b[39m,),\n\u001b[0;32m     77\u001b[0m     html\u001b[39m.\u001b[39mBr(),\n\u001b[0;32m     78\u001b[0m ])\n",
      "File \u001b[1;32mc:\\Users\\Pavel\\Desktop\\git\\libs-map-analysis\\src\\custom_components.py:66\u001b[0m, in \u001b[0;36mmake_dropdown\u001b[1;34m(idx, options)\u001b[0m\n\u001b[0;32m     62\u001b[0m \u001b[39mdef\u001b[39;00m \u001b[39mmake_dropdown\u001b[39m(idx, options):\n\u001b[0;32m     63\u001b[0m     \u001b[39mreturn\u001b[39;00m place_in_container([\n\u001b[0;32m     64\u001b[0m         dcc\u001b[39m.\u001b[39mDropdown(\n\u001b[0;32m     65\u001b[0m             options\u001b[39m=\u001b[39moptions,\n\u001b[1;32m---> 66\u001b[0m             value\u001b[39m=\u001b[39moptions[\u001b[39m0\u001b[39;49m],\n\u001b[0;32m     67\u001b[0m             \u001b[39mid\u001b[39m\u001b[39m=\u001b[39midx,\n\u001b[0;32m     68\u001b[0m             className\u001b[39m=\u001b[39m\u001b[39m\"\u001b[39m\u001b[39mdbc\u001b[39m\u001b[39m\"\u001b[39m, \u001b[39m# to be compatible with dbc themes (it's dcc)\u001b[39;00m\n\u001b[0;32m     69\u001b[0m         )\n\u001b[0;32m     70\u001b[0m     ])\n",
      "\u001b[1;31mTypeError\u001b[0m: 'dict_keys' object is not subscriptable"
     ]
    }
   ],
   "source": [
    "import dash\n",
    "import dash_bootstrap_components as dbc\n",
    "from dash import html\n",
    "from dash import dcc\n",
    "from jupyter_dash import JupyterDash\n",
    "from src.rowwise_metrics import rowwise_cosine, rowwise_euclid, rowwise_kl_divergence\n",
    "from src.custom_components import place_in_container, make_dropdown, make_plot, make_table, make_tooltip_title, make_toggle\n",
    "from src.visualization import plot_spectra\n",
    "\n",
    "METRICS = {\n",
    "    'cosine distance'            : rowwise_cosine,\n",
    "    'euclidean distance'         : rowwise_euclid,\n",
    "    'kullback-leibler divergence': rowwise_kl_divergence,\n",
    "}\n",
    "\n",
    "# TODO what if calibration\n",
    "\n",
    "dbc_css = \"https://cdn.jsdelivr.net/gh/AnnMarieW/dash-bootstrap-templates/dbc.min.css\"\n",
    "app = JupyterDash(__name__, external_stylesheets=[dbc.themes.SLATE, dbc_css])\n",
    "app.title = 'LIBS Error Analysis'\n",
    "app.layout = \\\n",
    "place_in_container([\n",
    "\n",
    "    # intensity map & error map \n",
    "    # TODO maybe add table\n",
    "    dbc.Row([\n",
    "        dbc.Col([\n",
    "            make_plot(\n",
    "                dbc.Row([\n",
    "                    dbc.Col([\n",
    "                        make_tooltip_title('Original map', 'y_map_title', 'TBD'),\n",
    "                    ]),\n",
    "                    dbc.Col([\n",
    "                        make_toggle('', 'Suppress outliers', 'y_map_outlier_toggle'),\n",
    "                    ]),\n",
    "                    dbc.Col([\n",
    "                        make_toggle('y_true', 'y_pred', 'y_map_toggle'),\n",
    "                    ]),\n",
    "                ]),\n",
    "                'y_map',\n",
    "            ),\n",
    "        ], width=6),\n",
    "        dbc.Col([\n",
    "            make_plot(\n",
    "                dbc.Row([\n",
    "                    dbc.Col([\n",
    "                        make_tooltip_title('Error map', 'error_map_title', 'TBD'),\n",
    "                    ]),\n",
    "                    dbc.Col([\n",
    "                        make_dropdown('error_metric_dropdown', METRICS.keys()),\n",
    "                    ]),\n",
    "                    dbc.Col([\n",
    "                        make_toggle('', 'Suppress outliers', 'error_map_outlier_toggle'),\n",
    "                    ]),\n",
    "                ]),\n",
    "                'error_map',\n",
    "            ),\n",
    "        ], width=6),\n",
    "    ], align='center'),\n",
    "    html.Br(),\n",
    "\n",
    "    # input and output\n",
    "    dbc.Row([\n",
    "        dbc.Col([\n",
    "            make_plot(\n",
    "                make_tooltip_title('Input spectrum', 'X_plot_title', 'TBD'),\n",
    "                'X_plot',\n",
    "            )\n",
    "        ], width=7),\n",
    "        dbc.Col([\n",
    "            make_plot(\n",
    "                make_tooltip_title('Model output and expected output', 'y_plot_title', 'TBD'),\n",
    "                'y_plot',\n",
    "            )\n",
    "        ], width=5),\n",
    "    ], align='center',),\n",
    "    html.Br(),\n",
    "])"
   ]
  },
  {
   "cell_type": "markdown",
   "metadata": {},
   "source": [
    "# callbacks"
   ]
  },
  {
   "cell_type": "code",
   "execution_count": null,
   "metadata": {},
   "outputs": [
    {
     "data": {
      "text/plain": [
       "'import plotly.express as px\\nfrom src.visualization import plot_map, intensity_map\\nfrom src.preprocessing import LabelCropp\\nfrom dash import Input, Output\\n\\n\\n@app.callback(\\n    Output(\\'left_map\\', \\'figure\\'),\\n    Input(\"wavelength_slider\", \\'figure\\'),\\n    Input(\"map_toggle\", \"value\"),\\n)\\ndef update_left_map(slider, map_num):\\n    if map_num == 1:\\n        display_map = y_true\\n    else:\\n        display_map = y_pred\\n    left_map = intensity_map(\\n        display_map,\\n        dim=DIM,\\n        index_type=INDEX,\\n        start=slider[0],\\n        end=slider[1],\\n        calibration=calibration,\\n        suppress_outliers=True,\\n        colorscale=px.colors.sequential.haline,\\n    )\\n    left_map.update_layout(\\n        template=\\'plotly_dark\\',\\n        plot_bgcolor= \\'rgba(0, 0, 0, 0)\\',\\n        paper_bgcolor= \\'rgba(0, 0, 0, 0)\\',\\n        yaxis=dict(scaleanchor=\\'x\\'),\\n        margin=dict(l=0, r=0, b=0, t=0,),\\n    )\\n\\n    return left_map\\n\\n\\n@app.callback(\\n    Output(\\'difference_map\\', \\'figure\\'),\\n    Input(\"wavelength_slider\", \"value\"),\\n    Input(\"metric_dropdown\", \"value\"),\\n)\\ndef update_right_map(slider, metric_key):\\n    cropp = LabelCropp(label_from=slider[0], label_to=slider[1], labels=calibration)\\n    new_left = cropp.fit_transform(y_true)\\n    new_right = cropp.fit_transform(y_pred)\\n    values = METRICS[metric_key](new_left, new_right)\\n    right_map = plot_map(\\n        values,\\n        dim=DIM,\\n        index_type=INDEX,\\n        colorscale=px.colors.sequential.deep,\\n    )\\n    right_map.update_layout(\\n        template=\\'plotly_dark\\',\\n        plot_bgcolor= \\'rgba(0, 0, 0, 0)\\',\\n        paper_bgcolor= \\'rgba(0, 0, 0, 0)\\',\\n        yaxis=dict(scaleanchor=\\'x\\'),\\n        margin=dict(l=0, r=0, b=0, t=0,),\\n    )\\n\\n    return right_map'"
      ]
     },
     "execution_count": 5,
     "metadata": {},
     "output_type": "execute_result"
    }
   ],
   "source": [
    "\"\"\"import plotly.express as px\n",
    "from src.visualization import plot_map, intensity_map\n",
    "from src.preprocessing import LabelCropp\n",
    "from dash import Input, Output\n",
    "\n",
    "\n",
    "@app.callback(\n",
    "    Output('left_map', 'figure'),\n",
    "    Input(\"wavelength_slider\", 'figure'),\n",
    "    Input(\"map_toggle\", \"value\"),\n",
    ")\n",
    "def update_left_map(slider, map_num):\n",
    "    if map_num == 1:\n",
    "        display_map = y_true\n",
    "    else:\n",
    "        display_map = y_pred\n",
    "    left_map = intensity_map(\n",
    "        display_map,\n",
    "        dim=DIM,\n",
    "        index_type=INDEX,\n",
    "        start=slider[0],\n",
    "        end=slider[1],\n",
    "        calibration=calibration,\n",
    "        suppress_outliers=True,\n",
    "        colorscale=px.colors.sequential.haline,\n",
    "    )\n",
    "    left_map.update_layout(\n",
    "        template='plotly_dark',\n",
    "        plot_bgcolor= 'rgba(0, 0, 0, 0)',\n",
    "        paper_bgcolor= 'rgba(0, 0, 0, 0)',\n",
    "        yaxis=dict(scaleanchor='x'),\n",
    "        margin=dict(l=0, r=0, b=0, t=0,),\n",
    "    )\n",
    "\n",
    "    return left_map\n",
    "\n",
    "\n",
    "@app.callback(\n",
    "    Output('difference_map', 'figure'),\n",
    "    Input(\"wavelength_slider\", \"value\"),\n",
    "    Input(\"metric_dropdown\", \"value\"),\n",
    ")\n",
    "def update_right_map(slider, metric_key):\n",
    "    cropp = LabelCropp(label_from=slider[0], label_to=slider[1], labels=calibration)\n",
    "    new_left = cropp.fit_transform(y_true)\n",
    "    new_right = cropp.fit_transform(y_pred)\n",
    "    values = METRICS[metric_key](new_left, new_right)\n",
    "    right_map = plot_map(\n",
    "        values,\n",
    "        dim=DIM,\n",
    "        index_type=INDEX,\n",
    "        colorscale=px.colors.sequential.deep,\n",
    "    )\n",
    "    right_map.update_layout(\n",
    "        template='plotly_dark',\n",
    "        plot_bgcolor= 'rgba(0, 0, 0, 0)',\n",
    "        paper_bgcolor= 'rgba(0, 0, 0, 0)',\n",
    "        yaxis=dict(scaleanchor='x'),\n",
    "        margin=dict(l=0, r=0, b=0, t=0,),\n",
    "    )\n",
    "\n",
    "    return right_map\"\"\""
   ]
  },
  {
   "cell_type": "code",
   "execution_count": null,
   "metadata": {},
   "outputs": [
    {
     "data": {
      "text/plain": [
       "'from src.visualization import id_from_snake_index, plot_spectra\\nfrom dash import callback_context\\n\\n@app.callback(\\n    Output(\\'spectra\\', \\'figure\\'),\\n    Input(\\'left_map\\', \\'clickData\\'),\\n    Input(\\'difference_map\\', \\'clickData\\'),\\n)\\ndef update_sample(left_click, right_click):\\n    ctx = callback_context.triggered[0][\\'prop_id\\'].split(\\'.\\')[0]\\n    if left_click is None and right_click is None:\\n        x, y, id = 0, 0, 0\\n    elif ctx == \\'difference_map\\':\\n        x, y = right_click[\\'points\\'][0][\\'x\\'], right_click[\\'points\\'][0][\\'y\\']\\n    elif ctx == \\'left_map\\':\\n        x, y = left_click[\\'points\\'][0][\\'x\\'], left_click[\\'points\\'][0][\\'y\\']\\n    id = id_from_snake_index(x, y, DIM)\\n\\n    fig = plot_spectra(\\n        np.vstack((y_true[id], y_pred[id])),\\n        calibration=calibration,\\n        labels=[\\'left spectrum\\', \\'right spectrum\\'],\\n        colormap=px.colors.qualitative.Set1,\\n        title=f\"Sampled spectra for id={id} (x={x}, y={y})\",\\n    )\\n    fig.update_layout(\\n        template=\\'plotly_dark\\',\\n        plot_bgcolor= \\'rgba(0, 0, 0, 0)\\',\\n        paper_bgcolor= \\'rgba(0, 0, 0, 0)\\',\\n        margin=dict(l=0, r=0, b=0, t=50,),\\n    )\\n    return fig'"
      ]
     },
     "execution_count": 6,
     "metadata": {},
     "output_type": "execute_result"
    }
   ],
   "source": [
    "\"\"\"from src.visualization import id_from_snake_index, plot_spectra\n",
    "from dash import callback_context\n",
    "\n",
    "@app.callback(\n",
    "    Output('spectra', 'figure'),\n",
    "    Input('left_map', 'clickData'),\n",
    "    Input('difference_map', 'clickData'),\n",
    ")\n",
    "def update_sample(left_click, right_click):\n",
    "    ctx = callback_context.triggered[0]['prop_id'].split('.')[0]\n",
    "    if left_click is None and right_click is None:\n",
    "        x, y, id = 0, 0, 0\n",
    "    elif ctx == 'difference_map':\n",
    "        x, y = right_click['points'][0]['x'], right_click['points'][0]['y']\n",
    "    elif ctx == 'left_map':\n",
    "        x, y = left_click['points'][0]['x'], left_click['points'][0]['y']\n",
    "    id = id_from_snake_index(x, y, DIM)\n",
    "\n",
    "    fig = plot_spectra(\n",
    "        np.vstack((y_true[id], y_pred[id])),\n",
    "        calibration=calibration,\n",
    "        labels=['left spectrum', 'right spectrum'],\n",
    "        colormap=px.colors.qualitative.Set1,\n",
    "        title=f\"Sampled spectra for id={id} (x={x}, y={y})\",\n",
    "    )\n",
    "    fig.update_layout(\n",
    "        template='plotly_dark',\n",
    "        plot_bgcolor= 'rgba(0, 0, 0, 0)',\n",
    "        paper_bgcolor= 'rgba(0, 0, 0, 0)',\n",
    "        margin=dict(l=0, r=0, b=0, t=50,),\n",
    "    )\n",
    "    return fig\"\"\""
   ]
  },
  {
   "cell_type": "markdown",
   "metadata": {},
   "source": [
    "# Run"
   ]
  },
  {
   "cell_type": "code",
   "execution_count": null,
   "metadata": {},
   "outputs": [
    {
     "name": "stdout",
     "output_type": "stream",
     "text": [
      "Dash app running on http://127.0.0.1:8050/\n"
     ]
    }
   ],
   "source": [
    "if __name__ == \"__main__\":\n",
    "    app.run_server(debug=True)"
   ]
  }
 ],
 "metadata": {
  "kernelspec": {
   "display_name": "Python 3.10.7 ('.venv': venv)",
   "language": "python",
   "name": "python3"
  },
  "language_info": {
   "codemirror_mode": {
    "name": "ipython",
    "version": 3
   },
   "file_extension": ".py",
   "mimetype": "text/x-python",
   "name": "python",
   "nbconvert_exporter": "python",
   "pygments_lexer": "ipython3",
   "version": "3.10.8"
  },
  "orig_nbformat": 4,
  "vscode": {
   "interpreter": {
    "hash": "7d17b373f0636cd96545417fbf8c9de932795316a77c5fe0b16e2167be828adf"
   }
  }
 },
 "nbformat": 4,
 "nbformat_minor": 2
}
