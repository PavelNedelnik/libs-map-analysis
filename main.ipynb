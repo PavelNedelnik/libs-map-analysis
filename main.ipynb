{
 "cells": [
  {
   "cell_type": "code",
   "execution_count": 1,
   "metadata": {},
   "outputs": [],
   "source": [
    "\"\"\"\n",
    "from google.colab import drive\n",
    "drive.mount('/content/drive', force_remount=True)\n",
    "%cd drive/Shareddrives/LIBS/LIBS_library\n",
    "\"\"\"\n",
    "\n",
    "import numpy as np"
   ]
  },
  {
   "cell_type": "markdown",
   "metadata": {},
   "source": [
    "# data"
   ]
  },
  {
   "cell_type": "code",
   "execution_count": 3,
   "metadata": {},
   "outputs": [
    {
     "ename": "ImportError",
     "evalue": "cannot import name 'IndexType' from 'src.visualization' (c:\\Users\\Pavel\\Desktop\\git\\libs-map-analysis\\src\\visualization.py)",
     "output_type": "error",
     "traceback": [
      "\u001b[1;31m---------------------------------------------------------------------------\u001b[0m",
      "\u001b[1;31mImportError\u001b[0m                               Traceback (most recent call last)",
      "Cell \u001b[1;32mIn [3], line 1\u001b[0m\n\u001b[1;32m----> 1\u001b[0m \u001b[38;5;28;01mfrom\u001b[39;00m \u001b[38;5;21;01msrc\u001b[39;00m\u001b[38;5;21;01m.\u001b[39;00m\u001b[38;5;21;01mvisualization\u001b[39;00m \u001b[38;5;28;01mimport\u001b[39;00m IndexType\n\u001b[0;32m      3\u001b[0m INDEX \u001b[38;5;241m=\u001b[39m IndexType\u001b[38;5;241m.\u001b[39mHORIZONTAL_SNAKE\n\u001b[0;32m      4\u001b[0m DIM \u001b[38;5;241m=\u001b[39m (\u001b[38;5;241m266\u001b[39m, \u001b[38;5;241m500\u001b[39m)\n",
      "\u001b[1;31mImportError\u001b[0m: cannot import name 'IndexType' from 'src.visualization' (c:\\Users\\Pavel\\Desktop\\git\\libs-map-analysis\\src\\visualization.py)"
     ]
    }
   ],
   "source": [
    "from src.visualization import IndexType\n",
    "\n",
    "INDEX = IndexType.HORIZONTAL_SNAKE\n",
    "DIM = (266, 500)"
   ]
  },
  {
   "cell_type": "code",
   "execution_count": null,
   "metadata": {},
   "outputs": [],
   "source": [
    "from src.preprocessing import match_wavelengths\n",
    "\n",
    "s1_wavelengths = np.load(open('data/s1_wavelengths.npy', 'rb'))\n",
    "s2_wavelengths = np.load(open('data/s2_wavelengths.npy', 'rb'))\n",
    "s1_spectra = np.load(open('data/s1.npy', 'rb'))\n",
    "s2_spectra = np.load(open('data/s2.npy', 'rb'))\n",
    "\n",
    "s1, s2, calibration = match_wavelengths(s1_spectra, s2_spectra, s1_wavelengths, s2_wavelengths)\n",
    "del s1_spectra, s2_spectra, s1_wavelengths, s2_wavelengths"
   ]
  },
  {
   "cell_type": "markdown",
   "metadata": {},
   "source": [
    "# layout"
   ]
  },
  {
   "cell_type": "code",
   "execution_count": null,
   "metadata": {},
   "outputs": [],
   "source": [
    "import dash\n",
    "import dash_bootstrap_components as dbc\n",
    "from jupyter_dash import JupyterDash\n",
    "\n",
    "app = JupyterDash(__name__)\n",
    "app.title = 'LIBS Transfer library'"
   ]
  }
 ],
 "metadata": {
  "kernelspec": {
   "display_name": "Python 3.10.7 ('.venv': venv)",
   "language": "python",
   "name": "python3"
  },
  "language_info": {
   "codemirror_mode": {
    "name": "ipython",
    "version": 3
   },
   "file_extension": ".py",
   "mimetype": "text/x-python",
   "name": "python",
   "nbconvert_exporter": "python",
   "pygments_lexer": "ipython3",
   "version": "3.10.7"
  },
  "orig_nbformat": 4,
  "vscode": {
   "interpreter": {
    "hash": "7d17b373f0636cd96545417fbf8c9de932795316a77c5fe0b16e2167be828adf"
   }
  }
 },
 "nbformat": 4,
 "nbformat_minor": 2
}
