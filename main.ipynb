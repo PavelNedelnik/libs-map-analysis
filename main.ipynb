{
 "cells": [
  {
   "cell_type": "code",
   "execution_count": 1,
   "metadata": {},
   "outputs": [],
   "source": [
    "\"\"\"\n",
    "from google.colab import drive\n",
    "drive.mount('/content/drive', force_remount=True)\n",
    "%cd drive/Shareddrives/LIBS/LIBS_library\n",
    "\"\"\"\n",
    "\n",
    "import numpy as np"
   ]
  },
  {
   "cell_type": "markdown",
   "metadata": {},
   "source": [
    "# data"
   ]
  },
  {
   "cell_type": "code",
   "execution_count": 2,
   "metadata": {},
   "outputs": [],
   "source": [
    "from src.visualization import IndexType\n",
    "\n",
    "INDEX = IndexType.HORIZONTAL_SNAKE\n",
    "DIM = (266, 500)"
   ]
  },
  {
   "cell_type": "code",
   "execution_count": 3,
   "metadata": {},
   "outputs": [
    {
     "data": {
      "text/plain": [
       "\"from src.preprocessing import match_wavelengths\\n\\ns1_wavelengths = np.load(open('data/s1_wavelengths.npy', 'rb'))\\ns2_wavelengths = np.load(open('data/s2_wavelengths.npy', 'rb'))\\ns1_spectra = np.load(open('data/s1.npy', 'rb'))\\ns2_spectra = np.load(open('data/s2.npy', 'rb'))\\n\\ny_true, y_pred = s1_spectra, s1_spectra\\ninput = s2_spectra\\ncalibration = s1_wavelengths\\ndel s1_spectra, s2_spectra, s1_wavelengths, s2_wavelengths\""
      ]
     },
     "execution_count": 3,
     "metadata": {},
     "output_type": "execute_result"
    }
   ],
   "source": [
    "\"\"\"from src.preprocessing import match_wavelengths\n",
    "\n",
    "s1_wavelengths = np.load(open('data/s1_wavelengths.npy', 'rb'))\n",
    "s2_wavelengths = np.load(open('data/s2_wavelengths.npy', 'rb'))\n",
    "s1_spectra = np.load(open('data/s1.npy', 'rb'))\n",
    "s2_spectra = np.load(open('data/s2.npy', 'rb'))\n",
    "\n",
    "y_true, y_pred = s1_spectra, s1_spectra\n",
    "input = s2_spectra\n",
    "calibration = s1_wavelengths\n",
    "del s1_spectra, s2_spectra, s1_wavelengths, s2_wavelengths\"\"\""
   ]
  },
  {
   "cell_type": "markdown",
   "metadata": {},
   "source": [
    "# layout"
   ]
  },
  {
   "cell_type": "code",
   "execution_count": 4,
   "metadata": {},
   "outputs": [],
   "source": [
    "import dash\n",
    "import dash_bootstrap_components as dbc\n",
    "from dash import html\n",
    "from dash import dcc\n",
    "from jupyter_dash import JupyterDash\n",
    "from src.rowwise_metrics import rowwise_cosine, rowwise_euclid, rowwise_kl_divergence\n",
    "from src.custom_components import place_in_container, make_dropdown, make_plot, make_table, make_tooltip_title, make_toggle\n",
    "from src.visualization import plot_spectra\n",
    "\n",
    "METRICS = {\n",
    "    'cosine distance'            : rowwise_cosine,\n",
    "    'euclidean distance'         : rowwise_euclid,\n",
    "    'kullback-leibler divergence': rowwise_kl_divergence,\n",
    "}\n",
    "\n",
    "# TODO what if calibration\n",
    "\n",
    "dbc_css = \"https://cdn.jsdelivr.net/gh/AnnMarieW/dash-bootstrap-templates/dbc.min.css\"\n",
    "app = JupyterDash(__name__, external_stylesheets=[dbc.themes.SLATE, dbc_css])\n",
    "app.title = 'LIBS Error Analysis'\n",
    "app.layout = \\\n",
    "place_in_container([\n",
    "\n",
    "    # intensity map & error map \n",
    "    # TODO maybe add table\n",
    "    dbc.Row([\n",
    "        dbc.Col([\n",
    "            make_plot(\n",
    "                dbc.Row([\n",
    "                    dbc.Col([\n",
    "                        make_tooltip_title('Original map', 'y_map_title', 'TBD'),\n",
    "                    ]),\n",
    "                    dbc.Col([\n",
    "                        make_toggle('', 'Suppress outliers', 'y_map_outlier_toggle'),\n",
    "                    ]),\n",
    "                    dbc.Col([\n",
    "                        make_toggle('y_true', 'y_pred', 'y_map_toggle'),\n",
    "                    ]),\n",
    "                ]),\n",
    "                'y_map',\n",
    "            ),\n",
    "        ], width=6),\n",
    "        dbc.Col([\n",
    "            make_plot(\n",
    "                dbc.Row([\n",
    "                    dbc.Col([\n",
    "                        make_tooltip_title('Error map', 'error_map_title', 'TBD'),\n",
    "                    ]),\n",
    "                    dbc.Col([\n",
    "                        make_dropdown('error_metric_dropdown', list(METRICS.keys())),\n",
    "                    ]),\n",
    "                    dbc.Col([\n",
    "                        make_toggle('', 'Suppress outliers', 'error_map_outlier_toggle'),\n",
    "                    ]),\n",
    "                ]),\n",
    "                'error_map',\n",
    "            ),\n",
    "        ], width=6),\n",
    "    ], align='center'),\n",
    "    html.Br(),\n",
    "\n",
    "    # input and output\n",
    "    dbc.Row([\n",
    "        dbc.Col([\n",
    "            make_plot(\n",
    "                make_tooltip_title('Input spectrum', 'X_plot_title', 'TBD'),\n",
    "                'X_plot',\n",
    "            )\n",
    "        ], width=7),\n",
    "        dbc.Col([\n",
    "            make_plot(\n",
    "                make_tooltip_title('Model output and expected output', 'y_plot_title', 'TBD'),\n",
    "                'y_plot',\n",
    "            )\n",
    "        ], width=5),\n",
    "    ], align='center',),\n",
    "    html.Br(),\n",
    "])"
   ]
  },
  {
   "cell_type": "markdown",
   "metadata": {},
   "source": [
    "# callbacks"
   ]
  },
  {
   "cell_type": "code",
   "execution_count": 5,
   "metadata": {},
   "outputs": [
    {
     "data": {
      "text/plain": [
       "'\\n@app.callback(\\n    Output(\\'difference_map\\', \\'figure\\'),\\n    Input(\"wavelength_slider\", \"value\"),\\n    Input(\"metric_dropdown\", \"value\"),\\n)\\ndef update_right_map(slider, metric_key):\\n    cropp = LabelCropp(label_from=slider[0], label_to=slider[1], labels=calibration)\\n    new_left = cropp.fit_transform(y_true)\\n    new_right = cropp.fit_transform(y_pred)\\n    values = METRICS[metric_key](new_left, new_right)\\n    right_map = plot_map(\\n        values,\\n        dim=DIM,\\n        index_type=INDEX,\\n        colorscale=px.colors.sequential.deep,\\n    )\\n    right_map.update_layout(\\n        template=\\'plotly_dark\\',\\n        plot_bgcolor= \\'rgba(0, 0, 0, 0)\\',\\n        paper_bgcolor= \\'rgba(0, 0, 0, 0)\\',\\n        yaxis=dict(scaleanchor=\\'x\\'),\\n        margin=dict(l=0, r=0, b=0, t=0,),\\n    )\\n\\n    return right_map'"
      ]
     },
     "execution_count": 5,
     "metadata": {},
     "output_type": "execute_result"
    }
   ],
   "source": [
    "import plotly.express as px\n",
    "from src.visualization import plot_map, intensity_map\n",
    "from src.preprocessing import LabelCropp\n",
    "from dash import Input, Output\n",
    "\n",
    "@app.callback(\n",
    "    Output('y_map_title', 'children'),\n",
    "    Input('y_map_toggle', 'on'),\n",
    ")\n",
    "def update_y_map_title(toggle_position):\n",
    "    return 'Expected map' if toggle_position else 'Predicted map'\n",
    "\n",
    "\"\"\"\n",
    "@app.callback(\n",
    "    Output('left_map', 'figure'),\n",
    "    Input(\"wavelength_slider\", 'figure'),\n",
    "    Input(\"map_toggle\", \"value\"),\n",
    ")\n",
    "def update_left_map(slider, map_num):\n",
    "    if map_num == 1:\n",
    "        display_map = y_true\n",
    "    else:\n",
    "        display_map = y_pred\n",
    "    left_map = intensity_map(\n",
    "        display_map,\n",
    "        dim=DIM,\n",
    "        index_type=INDEX,\n",
    "        start=slider[0],\n",
    "        end=slider[1],\n",
    "        calibration=calibration,\n",
    "        suppress_outliers=True,\n",
    "        colorscale=px.colors.sequential.haline,\n",
    "    )\n",
    "    left_map.update_layout(\n",
    "        template='plotly_dark',\n",
    "        plot_bgcolor= 'rgba(0, 0, 0, 0)',\n",
    "        paper_bgcolor= 'rgba(0, 0, 0, 0)',\n",
    "        yaxis=dict(scaleanchor='x'),\n",
    "        margin=dict(l=0, r=0, b=0, t=0,),\n",
    "    )\n",
    "\n",
    "    return left_map\n",
    "\"\"\"\n",
    "\"\"\"\n",
    "@app.callback(\n",
    "    Output('difference_map', 'figure'),\n",
    "    Input(\"wavelength_slider\", \"value\"),\n",
    "    Input(\"metric_dropdown\", \"value\"),\n",
    ")\n",
    "def update_right_map(slider, metric_key):\n",
    "    cropp = LabelCropp(label_from=slider[0], label_to=slider[1], labels=calibration)\n",
    "    new_left = cropp.fit_transform(y_true)\n",
    "    new_right = cropp.fit_transform(y_pred)\n",
    "    values = METRICS[metric_key](new_left, new_right)\n",
    "    right_map = plot_map(\n",
    "        values,\n",
    "        dim=DIM,\n",
    "        index_type=INDEX,\n",
    "        colorscale=px.colors.sequential.deep,\n",
    "    )\n",
    "    right_map.update_layout(\n",
    "        template='plotly_dark',\n",
    "        plot_bgcolor= 'rgba(0, 0, 0, 0)',\n",
    "        paper_bgcolor= 'rgba(0, 0, 0, 0)',\n",
    "        yaxis=dict(scaleanchor='x'),\n",
    "        margin=dict(l=0, r=0, b=0, t=0,),\n",
    "    )\n",
    "\n",
    "    return right_map\"\"\""
   ]
  },
  {
   "cell_type": "code",
   "execution_count": 6,
   "metadata": {},
   "outputs": [
    {
     "data": {
      "text/plain": [
       "'from src.visualization import id_from_snake_index, plot_spectra\\nfrom dash import callback_context\\n\\n@app.callback(\\n    Output(\\'spectra\\', \\'figure\\'),\\n    Input(\\'left_map\\', \\'clickData\\'),\\n    Input(\\'difference_map\\', \\'clickData\\'),\\n)\\ndef update_sample(left_click, right_click):\\n    ctx = callback_context.triggered[0][\\'prop_id\\'].split(\\'.\\')[0]\\n    if left_click is None and right_click is None:\\n        x, y, id = 0, 0, 0\\n    elif ctx == \\'difference_map\\':\\n        x, y = right_click[\\'points\\'][0][\\'x\\'], right_click[\\'points\\'][0][\\'y\\']\\n    elif ctx == \\'left_map\\':\\n        x, y = left_click[\\'points\\'][0][\\'x\\'], left_click[\\'points\\'][0][\\'y\\']\\n    id = id_from_snake_index(x, y, DIM)\\n\\n    fig = plot_spectra(\\n        np.vstack((y_true[id], y_pred[id])),\\n        calibration=calibration,\\n        labels=[\\'left spectrum\\', \\'right spectrum\\'],\\n        colormap=px.colors.qualitative.Set1,\\n        title=f\"Sampled spectra for id={id} (x={x}, y={y})\",\\n    )\\n    fig.update_layout(\\n        template=\\'plotly_dark\\',\\n        plot_bgcolor= \\'rgba(0, 0, 0, 0)\\',\\n        paper_bgcolor= \\'rgba(0, 0, 0, 0)\\',\\n        margin=dict(l=0, r=0, b=0, t=50,),\\n    )\\n    return fig'"
      ]
     },
     "execution_count": 6,
     "metadata": {},
     "output_type": "execute_result"
    }
   ],
   "source": [
    "\"\"\"from src.visualization import id_from_snake_index, plot_spectra\n",
    "from dash import callback_context\n",
    "\n",
    "@app.callback(\n",
    "    Output('spectra', 'figure'),\n",
    "    Input('left_map', 'clickData'),\n",
    "    Input('difference_map', 'clickData'),\n",
    ")\n",
    "def update_sample(left_click, right_click):\n",
    "    ctx = callback_context.triggered[0]['prop_id'].split('.')[0]\n",
    "    if left_click is None and right_click is None:\n",
    "        x, y, id = 0, 0, 0\n",
    "    elif ctx == 'difference_map':\n",
    "        x, y = right_click['points'][0]['x'], right_click['points'][0]['y']\n",
    "    elif ctx == 'left_map':\n",
    "        x, y = left_click['points'][0]['x'], left_click['points'][0]['y']\n",
    "    id = id_from_snake_index(x, y, DIM)\n",
    "\n",
    "    fig = plot_spectra(\n",
    "        np.vstack((y_true[id], y_pred[id])),\n",
    "        calibration=calibration,\n",
    "        labels=['left spectrum', 'right spectrum'],\n",
    "        colormap=px.colors.qualitative.Set1,\n",
    "        title=f\"Sampled spectra for id={id} (x={x}, y={y})\",\n",
    "    )\n",
    "    fig.update_layout(\n",
    "        template='plotly_dark',\n",
    "        plot_bgcolor= 'rgba(0, 0, 0, 0)',\n",
    "        paper_bgcolor= 'rgba(0, 0, 0, 0)',\n",
    "        margin=dict(l=0, r=0, b=0, t=50,),\n",
    "    )\n",
    "    return fig\"\"\""
   ]
  },
  {
   "cell_type": "markdown",
   "metadata": {},
   "source": [
    "# Run"
   ]
  },
  {
   "cell_type": "code",
   "execution_count": 7,
   "metadata": {},
   "outputs": [
    {
     "name": "stdout",
     "output_type": "stream",
     "text": [
      "Dash app running on http://127.0.0.1:8050/\n"
     ]
    }
   ],
   "source": [
    "if __name__ == \"__main__\":\n",
    "    app.run_server(debug=True)"
   ]
  }
 ],
 "metadata": {
  "kernelspec": {
   "display_name": "Python 3.7.9 ('.venv': venv)",
   "language": "python",
   "name": "python3"
  },
  "language_info": {
   "codemirror_mode": {
    "name": "ipython",
    "version": 3
   },
   "file_extension": ".py",
   "mimetype": "text/x-python",
   "name": "python",
   "nbconvert_exporter": "python",
   "pygments_lexer": "ipython3",
   "version": "3.10.8"
  },
  "orig_nbformat": 4,
  "vscode": {
   "interpreter": {
    "hash": "7d17b373f0636cd96545417fbf8c9de932795316a77c5fe0b16e2167be828adf"
   }
  }
 },
 "nbformat": 4,
 "nbformat_minor": 2
}
